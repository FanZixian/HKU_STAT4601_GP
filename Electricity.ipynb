{
 "cells": [
  {
   "cell_type": "markdown",
   "metadata": {},
   "source": [
    "# Beginning"
   ]
  },
  {
   "cell_type": "code",
   "execution_count": null,
   "metadata": {},
   "outputs": [],
   "source": [
    "# import\n",
    "import pandas as pd\n",
    "import numpy as np\n",
    "import matplotlib.pyplot as plt\n",
    "import prettytable\n",
    "from statsmodels.graphics.tsaplots import plot_acf, plot_pacf\n",
    "from statsmodels.tsa.stattools import adfuller \n",
    "from statsmodels.stats.diagnostic import acorr_ljungbox\n",
    "from statsmodels.tsa.seasonal import seasonal_decompose\n",
    "from statsmodels.tsa.arima.model import ARIMA\n",
    "import statsmodels.tsa.stattools as st\n",
    "from sklearn.metrics import mean_squared_error\n",
    "from sklearn.model_selection import train_test_split\n",
    "from statsmodels.tsa.statespace.sarimax import SARIMAX\n",
    "import datetime\n",
    "from pmdarima.arima import auto_arima\n",
    "import arch as arch\n",
    "from statsmodels.stats.diagnostic import het_arch\n",
    "import statsmodels.graphics.tsaplots as sgt\n",
    "import statsmodels.api as sm\n",
    "\n",
    "# Import packages\n",
    "import torch\n",
    "import torch.nn as nn\n",
    "import torch.nn.functional as F\n",
    "import torch.optim as optim\n",
    "from torch.utils.data import DataLoader\n",
    "from functools import partial\n",
    "from torch.autograd import Variable\n",
    "import math\n",
    "import time\n",
    "\n",
    "import pandas as pd\n",
    "import numpy as np\n",
    "import random\n",
    "\n",
    "import seaborn\n",
    "seaborn.set_context(context=\"talk\")\n",
    "%matplotlib inline\n",
    "\n",
    "# set the random seeds for deterministic results\n",
    "SEED = 4601\n",
    "random.seed(SEED)\n",
    "np.random.seed(SEED)\n",
    "torch.manual_seed(SEED)\n",
    "torch.cuda.manual_seed(SEED)\n",
    "\n",
    "# set device\n",
    "device = torch.device('cuda' if torch.cuda.is_available() else 'cpu')\n",
    "print(device)\n",
    "\n",
    "\n",
    "import warnings\n",
    "warnings.filterwarnings(\"ignore\")"
   ]
  },
  {
   "cell_type": "code",
   "execution_count": null,
   "metadata": {},
   "outputs": [],
   "source": [
    "path = \"./\"\n",
    "\n",
    "def readx(pathname):\n",
    "    \n",
    "    df = pd.read_csv(path + pathname + \".csv\", index_col=[0], header=[0])\n",
    "    return df\n",
    "\n",
    "electricity_total_df = readx(\"Electricity\")\n",
    "electricity_total_df = electricity_total_df[0:595]"
   ]
  },
  {
   "cell_type": "code",
   "execution_count": null,
   "metadata": {},
   "outputs": [],
   "source": [
    "electricity_total_df.columns = [\"Thermal Electricity\", \"New Energy\"]\n",
    "electricity_total_df.plot(grid = True, figsize=(12,5))\n",
    "plt.xlabel('Date (in months)', fontsize = 12)\n",
    "plt.ylabel('Electricity net generation (in Mkwh)', fontsize = 12)\n",
    "plt.legend()\n",
    "plt.show()\n",
    "electricity_total_df.columns = [\"Electricity_Fire\", \"Electricity_Nonfire\"]"
   ]
  },
  {
   "cell_type": "markdown",
   "metadata": {},
   "source": [
    "# Data 1：Thermal Electricity"
   ]
  },
  {
   "cell_type": "markdown",
   "metadata": {},
   "source": [
    "## 1. Stationarity：Log"
   ]
  },
  {
   "cell_type": "code",
   "execution_count": null,
   "metadata": {},
   "outputs": [],
   "source": [
    "electricity_fire_df = electricity_total_df[:588]\n",
    "electricity_fire_df = pd.DataFrame(electricity_fire_df[\"Electricity_Fire\"].values, index = electricity_fire_df.index, columns = [\"EG\"])\n",
    "electricity_fire_array = electricity_fire_df.values.ravel()\n",
    "electricity_fire_series = pd.Series(electricity_fire_array, index = electricity_fire_df.index)"
   ]
  },
  {
   "cell_type": "code",
   "execution_count": null,
   "metadata": {},
   "outputs": [],
   "source": [
    "def pre_table(table_name, table_rows):\n",
    "    \n",
    "    table = prettytable.PrettyTable()  \n",
    "    table.field_names = table_name  \n",
    "    for i in table_rows:  \n",
    "        table.add_row(i)  \n",
    "    return table\n",
    "\n",
    "\n",
    "def adf_val(ts, ts_title, acf_title, pacf_title):\n",
    "    plt.figure(figsize = (10,5))\n",
    "    plt.plot(ts)  \n",
    "    plt.title(ts_title)  \n",
    "    plt.show()\n",
    "\n",
    "    plot_acf(ts, lags=40, title=acf_title).show()  # ACF\n",
    "    plot_pacf(ts, lags=40, title=pacf_title).show()  # PACF\n",
    "\n",
    "    adf, pvalue, usedlag, nobs, critical_values, icbest = adfuller(ts)  \n",
    "    table_name = ['adf', 'pvalue', 'usedlag', 'nobs', 'critical_values', 'icbest']  \n",
    "    table_rows = [[adf, pvalue, usedlag, nobs, critical_values, icbest]]  \n",
    "    adf_table = pre_table(table_name, table_rows)   \n",
    "    print ('stochastic score')  \n",
    "    print (adf_table)\n",
    "    return adf, pvalue, critical_values\n",
    "\n",
    "\n",
    "adf, pvalue1, critical_values = adf_val(electricity_fire_series, 'Time series', 'ACF', 'PACF')  "
   ]
  },
  {
   "cell_type": "code",
   "execution_count": null,
   "metadata": {},
   "outputs": [],
   "source": [
    "# Take log, with ADF test\n",
    "\n",
    "def criteria(adf, pvalue):\n",
    "    return adf < critical_values['5%'] and pvalue < 0.05\n",
    "\n",
    "def best_log(ts, max_log=5):\n",
    "        for i in range(1, max_log):\n",
    "            ts = np.log(ts) \n",
    "            adf, pvalue, usedlag, nobs, critical_values, icbest = adfuller(ts)  \n",
    "            print(pvalue)\n",
    "            if criteria(adf, pvalue):\n",
    "                print(adf)\n",
    "                print ('The best log n is: {0}'.format(i))  \n",
    "                return i  \n",
    "                \n",
    "\n",
    "# For the original datasets\n",
    "result = criteria(adf, pvalue1)\n",
    "print(result)\n",
    "print(\"-----------------------------------------------------------------------\")\n",
    "log_n = best_log(electricity_fire_series)\n",
    "print(log_n)\n",
    "\n",
    "# Total 4 times\n",
    "\n",
    "# One time log is the best, which is then selected\n",
    "electricity_fire_series_log = np.log(electricity_fire_series)\n",
    "adf, pvalue1, critical_values = adf_val(electricity_fire_series_log, 'Time series', 'ACF', 'PACF') "
   ]
  },
  {
   "cell_type": "markdown",
   "metadata": {},
   "source": [
    "## 2. Stationarity：Differencing"
   ]
  },
  {
   "cell_type": "code",
   "execution_count": null,
   "metadata": {},
   "outputs": [],
   "source": [
    "# First time differencing\n",
    "\n",
    "electricity_fire_series_log_diff = electricity_fire_series_log.diff()\n",
    "# rb_diff.isnull()\n",
    "electricity_fire_series_log_diff = electricity_fire_series_log_diff.fillna(0)\n",
    "\n",
    "adf, pvalue1, critical_values = adf_val(electricity_fire_series_log_diff, 'Time series (log diff)', 'ACF', 'PACF')\n",
    "print(adf, pvalue1)"
   ]
  },
  {
   "cell_type": "code",
   "execution_count": null,
   "metadata": {},
   "outputs": [],
   "source": [
    "# First time ACF and PACF performance well\n",
    "\n",
    "#ljungbox-test\n",
    "def test_stochastic(ts, lag):\n",
    " p_value = acorr_ljungbox(ts, lags=lag)\n",
    " return p_value\n",
    "\n",
    "test_stochastic(electricity_fire_series_log_diff, 24)"
   ]
  },
  {
   "cell_type": "code",
   "execution_count": null,
   "metadata": {},
   "outputs": [],
   "source": [
    "acorr_ljungbox(electricity_fire_series_log_diff, lags=[24])"
   ]
  },
  {
   "cell_type": "markdown",
   "metadata": {},
   "source": [
    "## 3. Stationarity：Seasonal Differencing"
   ]
  },
  {
   "cell_type": "code",
   "execution_count": null,
   "metadata": {},
   "outputs": [],
   "source": [
    "# Visualization\n",
    "decomposition = seasonal_decompose(electricity_fire_series_log_diff, period=12)\n",
    "fig = plt.figure()  \n",
    "fig = decomposition.plot()  \n",
    "fig.set_size_inches(30, 15)"
   ]
  },
  {
   "cell_type": "code",
   "execution_count": null,
   "metadata": {},
   "outputs": [],
   "source": [
    "# Whether the effect is 24 periods or not\n",
    "\n",
    "def adf_val(ts, ts_title, acf_title, pacf_title):\n",
    "    plt.figure(figsize = (10,5))\n",
    "    plt.plot(ts)  \n",
    "    plt.title(ts_title)  \n",
    "    plt.show()\n",
    "\n",
    "    plot_acf(ts, lags=40, title=acf_title).show()  # ACF\n",
    "    plot_pacf(ts, lags=40, title=pacf_title).show()  # PACF\n",
    "\n",
    "    adf, pvalue, usedlag, nobs, critical_values, icbest = adfuller(ts)  \n",
    "    table_name = ['adf', 'pvalue', 'usedlag', 'nobs', 'critical_values', 'icbest']  \n",
    "    table_rows = [[adf, pvalue, usedlag, nobs, critical_values, icbest]]  \n",
    "    adf_table = pre_table(table_name, table_rows)   \n",
    "    print ('stochastic score')  \n",
    "    print (adf_table)\n",
    "    return adf, pvalue, critical_values"
   ]
  },
  {
   "cell_type": "code",
   "execution_count": null,
   "metadata": {},
   "outputs": [],
   "source": [
    "# Seasonal Differencing\n",
    "electricity_fire_series_log_diff_Season = electricity_fire_series_log_diff.diff(12)\n",
    "# rb_diff.isnull()\n",
    "electricity_fire_series_log_diff_Season = electricity_fire_series_log_diff_Season.fillna(0)\n",
    "\n",
    "adf, pvalue1, critical_values = adf_val(electricity_fire_series_log_diff_Season, 'Time series (log diff season)', 'ACF', 'PACF')\n",
    "print(adf, pvalue1)"
   ]
  },
  {
   "cell_type": "markdown",
   "metadata": {},
   "source": [
    "## 4. SARIMA model fitting"
   ]
  },
  {
   "cell_type": "code",
   "execution_count": null,
   "metadata": {},
   "outputs": [],
   "source": [
    "# Trials\n",
    "ARIMA_model = auto_arima(electricity_fire_series_log, \n",
    "                      start_p=1, \n",
    "                      start_q=1,\n",
    "                      test='adf', # use adftest to find optimal 'd'\n",
    "                      max_p=3, max_q=3, # maximum p and q\n",
    "                      m=1, # frequency of series (if m==1, seasonal is set to FALSE automatically)\n",
    "                      d=None,# let model determine 'd'\n",
    "                      seasonal=False, # No Seasonality for standard ARIMA\n",
    "                      trace=False, \n",
    "                      error_action='warn', #shows errors ('ignore' silences these)\n",
    "                      suppress_warnings=True,\n",
    "                      stepwise=True)\n",
    "\n",
    "ARIMA_model"
   ]
  },
  {
   "cell_type": "code",
   "execution_count": null,
   "metadata": {},
   "outputs": [],
   "source": [
    "print(ARIMA_model.summary())"
   ]
  },
  {
   "cell_type": "code",
   "execution_count": null,
   "metadata": {},
   "outputs": [],
   "source": [
    "ARIMA_model.plot_diagnostics(figsize=(15,12), lags = 40)\n",
    "plt.show()"
   ]
  },
  {
   "cell_type": "markdown",
   "metadata": {},
   "source": [
    " ### from the diagnostics graphs, \n",
    " 1. residual: mean zero, but variance seems to be left-tailed\n",
    " 2. Histogram plus KDE estimate: skewed KDE\n",
    " 3. Normal QQ: quite a few points are ont on the line -> not normal residual\n",
    " 4. ACF: a few out -> not accurate enough"
   ]
  },
  {
   "cell_type": "markdown",
   "metadata": {},
   "source": [
    "### Continue testing seasonality"
   ]
  },
  {
   "cell_type": "code",
   "execution_count": null,
   "metadata": {},
   "outputs": [],
   "source": [
    "sarima_trial = SARIMAX(electricity_fire_series_log, order=(0, 1, 0), seasonal_order = (0,1,0,12))\n",
    "results_trial = sarima_trial.fit()\n",
    "results_trial.summary()"
   ]
  },
  {
   "cell_type": "markdown",
   "metadata": {},
   "source": [
    "#### SAR Direction"
   ]
  },
  {
   "cell_type": "code",
   "execution_count": null,
   "metadata": {},
   "outputs": [],
   "source": [
    "sarima_trial = SARIMAX(electricity_fire_series_log, order=(1, 1, 1), seasonal_order = (3,0,0,12))\n",
    "results_trial = sarima_trial.fit()\n",
    "results_trial.summary()"
   ]
  },
  {
   "cell_type": "code",
   "execution_count": null,
   "metadata": {},
   "outputs": [],
   "source": [
    "sarima_trial = SARIMAX(electricity_fire_series_log, order=(1, 1, 1), seasonal_order = (2,0,0,12))\n",
    "results_trial = sarima_trial.fit()\n",
    "results_trial.summary()"
   ]
  },
  {
   "cell_type": "code",
   "execution_count": null,
   "metadata": {},
   "outputs": [],
   "source": [
    "sarima_smafinal = SARIMAX(electricity_fire_series_log, order=(1, 1, 1), seasonal_order = (2,0,0,12))\n",
    "results_smafinal = sarima_smafinal.fit()\n",
    "results_smafinal.summary()"
   ]
  },
  {
   "cell_type": "code",
   "execution_count": null,
   "metadata": {},
   "outputs": [],
   "source": [
    "results_smafinal.plot_diagnostics(lags= 40, figsize=(15,12))\n",
    "plt.show()"
   ]
  },
  {
   "cell_type": "markdown",
   "metadata": {},
   "source": [
    "#### SMA Direction"
   ]
  },
  {
   "cell_type": "code",
   "execution_count": null,
   "metadata": {},
   "outputs": [],
   "source": [
    "sarima_trial = SARIMAX(electricity_fire_series_log, order=(1, 1, 0), seasonal_order = (0,1,1,12))\n",
    "results_trial = sarima_trial.fit()\n",
    "results_trial.summary()"
   ]
  },
  {
   "cell_type": "code",
   "execution_count": null,
   "metadata": {},
   "outputs": [],
   "source": [
    "sarima_sarfinal = SARIMAX(electricity_fire_series_log, order=(0, 1, 1), seasonal_order = (0,1,1,12))\n",
    "results_sarfinal = sarima_sarfinal.fit()\n",
    "results_sarfinal.summary()"
   ]
  },
  {
   "cell_type": "code",
   "execution_count": null,
   "metadata": {},
   "outputs": [],
   "source": [
    "results_sarfinal.plot_diagnostics(lags= 40, figsize=(15,12))\n",
    "plt.show()"
   ]
  },
  {
   "cell_type": "markdown",
   "metadata": {},
   "source": [
    "#### Combination"
   ]
  },
  {
   "cell_type": "code",
   "execution_count": null,
   "metadata": {},
   "outputs": [],
   "source": [
    "sarima_trial = SARIMAX(electricity_fire_series_log, order=(0, 1, 0), seasonal_order = (1,0,1,12))\n",
    "results_trial = sarima_trial.fit()\n",
    "results_trial.summary()"
   ]
  },
  {
   "cell_type": "code",
   "execution_count": null,
   "metadata": {},
   "outputs": [],
   "source": [
    "sarima_trial = SARIMAX(electricity_fire_series_log, order=(1, 1, 2), seasonal_order = (1,0,1,12))\n",
    "results_trial = sarima_trial.fit()\n",
    "results_trial.summary()"
   ]
  },
  {
   "cell_type": "code",
   "execution_count": null,
   "metadata": {},
   "outputs": [],
   "source": [
    "sarima_sarmafinal = SARIMAX(electricity_fire_series_log, order=(1, 1, 1), seasonal_order = (1,0,1,12), method = \"ML\")\n",
    "results_sarmafinal = sarima_sarmafinal.fit()\n",
    "results_sarmafinal.summary()"
   ]
  },
  {
   "cell_type": "code",
   "execution_count": null,
   "metadata": {},
   "outputs": [],
   "source": [
    "results_sarmafinal.plot_diagnostics(lags= 40, figsize=(15,12))\n",
    "plt.show()"
   ]
  },
  {
   "cell_type": "markdown",
   "metadata": {},
   "source": [
    "# Data2：New energy"
   ]
  },
  {
   "cell_type": "code",
   "execution_count": null,
   "metadata": {},
   "outputs": [],
   "source": [
    "electricity_nonfire_df = electricity_total_df[:588]\n",
    "electricity_nonfire_df = pd.DataFrame(electricity_nonfire_df[\"Electricity_Nonfire\"].values, index = electricity_nonfire_df.index, columns = [\"EG\"])\n",
    "electricity_nonfire_array = electricity_nonfire_df.values.ravel()\n",
    "electricity_nonfire_series = pd.Series(electricity_nonfire_array, index = electricity_nonfire_df.index)"
   ]
  },
  {
   "cell_type": "code",
   "execution_count": null,
   "metadata": {},
   "outputs": [],
   "source": [
    "def pre_table(table_name, table_rows):\n",
    "    \n",
    "    table = prettytable.PrettyTable()  \n",
    "    table.field_names = table_name  \n",
    "    for i in table_rows:  \n",
    "        table.add_row(i)  \n",
    "    return table\n",
    "\n",
    "\n",
    "def adf_val(ts, ts_title, acf_title, pacf_title):\n",
    "    plt.figure(figsize = (10,5))\n",
    "    plt.plot(ts)  \n",
    "    plt.title(ts_title)  \n",
    "    plt.show()\n",
    "\n",
    "    plot_acf(ts, lags=40, title=acf_title).show()  # ACF\n",
    "    plot_pacf(ts, lags=40, title=pacf_title).show()  # PACF\n",
    "\n",
    "    adf, pvalue, usedlag, nobs, critical_values, icbest = adfuller(ts)  \n",
    "    table_name = ['adf', 'pvalue', 'usedlag', 'nobs', 'critical_values', 'icbest']  \n",
    "    table_rows = [[adf, pvalue, usedlag, nobs, critical_values, icbest]]  \n",
    "    adf_table = pre_table(table_name, table_rows)   \n",
    "    print ('stochastic score')  \n",
    "    print (adf_table)\n",
    "    return adf, pvalue, critical_values\n",
    "\n",
    "\n",
    "adf, pvalue1, critical_values = adf_val(electricity_nonfire_series, 'Time series', 'ACF', 'PACF')  "
   ]
  },
  {
   "cell_type": "code",
   "execution_count": null,
   "metadata": {},
   "outputs": [],
   "source": [
    "def criteria(adf, pvalue):\n",
    "    return adf < critical_values['5%'] and pvalue < 0.05\n",
    "\n",
    "def best_log(ts, max_log=5):\n",
    "        for i in range(1, max_log):\n",
    "            ts = np.log(ts) \n",
    "            adf, pvalue, usedlag, nobs, critical_values, icbest = adfuller(ts) \n",
    "            print(pvalue)\n",
    "            if criteria(adf, pvalue):\n",
    "                print(adf)\n",
    "                print ('The best log n is: {0}'.format(i)) \n",
    "                return i  \n",
    "\n",
    "result = criteria(adf, pvalue1)\n",
    "print(result)\n",
    "print(\"-----------------------------------------------------------------------\")\n",
    "log_n = best_log(electricity_nonfire_series)\n",
    "print(log_n)\n",
    "electricity_nonfire_series_log = np.log(electricity_nonfire_series)\n",
    "adf, pvalue1, critical_values = adf_val(electricity_nonfire_series_log, 'Time series', 'ACF', 'PACF') "
   ]
  },
  {
   "cell_type": "code",
   "execution_count": null,
   "metadata": {},
   "outputs": [],
   "source": [
    "electricity_nonfire_series_log_diff = electricity_nonfire_series_log.diff()\n",
    "# rb_diff.isnull()\n",
    "electricity_nonfire_series_log_diff = electricity_nonfire_series_log_diff.fillna(0)\n",
    "\n",
    "adf, pvalue1, critical_values = adf_val(electricity_nonfire_series_log_diff, 'Time series (log diff)', 'ACF', 'PACF')\n",
    "print(adf, pvalue1)"
   ]
  },
  {
   "cell_type": "code",
   "execution_count": null,
   "metadata": {},
   "outputs": [],
   "source": [
    "def test_stochastic(ts, lag):\n",
    " p_value = acorr_ljungbox(ts, lags=lag) \n",
    " return p_value\n",
    "\n",
    "test_stochastic(electricity_nonfire_series_log_diff, 24)\n",
    "white_noise_garch = acorr_ljungbox(electricity_nonfire_series_log_diff, lags = [24], return_df=True)\n",
    "white_noise_garch"
   ]
  },
  {
   "cell_type": "code",
   "execution_count": null,
   "metadata": {},
   "outputs": [],
   "source": [
    "decomposition = seasonal_decompose(electricity_nonfire_series_log_diff, period=12)\n",
    "fig = plt.figure()  \n",
    "fig = decomposition.plot()  \n",
    "fig.set_size_inches(30, 15)"
   ]
  },
  {
   "cell_type": "code",
   "execution_count": null,
   "metadata": {},
   "outputs": [],
   "source": [
    "def adf_val(ts, ts_title, acf_title, pacf_title):\n",
    "    plt.figure(figsize = (10,5))\n",
    "    plt.plot(ts)  \n",
    "    plt.title(ts_title)  \n",
    "    plt.show()\n",
    "\n",
    "    plot_acf(ts, lags=40, title=acf_title).show()  # ACF\n",
    "    plot_pacf(ts, lags=40, title=pacf_title).show()  # PACF\n",
    "\n",
    "    adf, pvalue, usedlag, nobs, critical_values, icbest = adfuller(ts)  \n",
    "    table_name = ['adf', 'pvalue', 'usedlag', 'nobs', 'critical_values', 'icbest']  \n",
    "    table_rows = [[adf, pvalue, usedlag, nobs, critical_values, icbest]]  \n",
    "    adf_table = pre_table(table_name, table_rows)   \n",
    "    print ('stochastic score')  \n",
    "    print (adf_table)\n",
    "    return adf, pvalue, critical_values"
   ]
  },
  {
   "cell_type": "code",
   "execution_count": null,
   "metadata": {},
   "outputs": [],
   "source": [
    "# Seasonal differencing\n",
    "electricity_nonfire_series_log_diff_Season = electricity_nonfire_series_log_diff.diff()\n",
    "# rb_diff.isnull()\n",
    "electricity_nonfire_series_log_diff_Season = electricity_nonfire_series_log_diff_Season.fillna(0)\n",
    "\n",
    "adf, pvalue1, critical_values = adf_val(electricity_nonfire_series_log_diff_Season, 'Time series (log diff season)', 'ACF', 'PACF')\n",
    "print(adf, pvalue1)"
   ]
  },
  {
   "cell_type": "code",
   "execution_count": null,
   "metadata": {},
   "outputs": [],
   "source": [
    "ARIMA_model = auto_arima(electricity_nonfire_series_log, \n",
    "                      start_p=1, \n",
    "                      start_q=1,\n",
    "                      test='adf', # use adftest to find optimal 'd'\n",
    "                      max_p=3, max_q=3, # maximum p and q\n",
    "                      m=1, # frequency of series (if m==1, seasonal is set to FALSE automatically)\n",
    "                      d=None,# let model determine 'd'\n",
    "                      seasonal=False, # No Seasonality for standard ARIMA\n",
    "                      trace=False, \n",
    "                      error_action='warn', #shows errors ('ignore' silences these)\n",
    "                      suppress_warnings=True,\n",
    "                      stepwise=True)\n",
    "\n",
    "ARIMA_model"
   ]
  },
  {
   "cell_type": "code",
   "execution_count": null,
   "metadata": {},
   "outputs": [],
   "source": [
    "print(ARIMA_model.summary())"
   ]
  },
  {
   "cell_type": "code",
   "execution_count": null,
   "metadata": {},
   "outputs": [],
   "source": [
    "ARIMA_model.plot_diagnostics(figsize=(15,12), lags = 40)\n",
    "plt.show()"
   ]
  },
  {
   "cell_type": "code",
   "execution_count": null,
   "metadata": {},
   "outputs": [],
   "source": [
    "sarima_trial = SARIMAX(electricity_nonfire_series_log, order=(0, 1, 0), seasonal_order = (1,1,1,12))\n",
    "results_trial = sarima_trial.fit()\n",
    "results_trial.summary()"
   ]
  },
  {
   "cell_type": "code",
   "execution_count": null,
   "metadata": {},
   "outputs": [],
   "source": [
    "# Try SARIMA\n",
    "# Hyper parameters：(p, 1, q) * (P, D, Q, 12)\n",
    "SARIMA_model = auto_arima(electricity_nonfire_series_log, start_p=1, start_q=1,\n",
    "                         test='adf',\n",
    "                         max_p=3, max_q=3, \n",
    "                         m=12, \n",
    "                         start_P=0,\n",
    "                         max_P=3,\n",
    "                         start_Q=0,\n",
    "                         max_Q=3,\n",
    "                         seasonal=True, #set to seasonal\n",
    "                         d=1, #order of differencing = 1\n",
    "                         max_D=3, \n",
    "                         trace=False,\n",
    "                         error_action='ignore',  \n",
    "                         suppress_warnings=True, \n",
    "                         stepwise=True)\n",
    "SARIMA_model"
   ]
  },
  {
   "cell_type": "code",
   "execution_count": null,
   "metadata": {},
   "outputs": [],
   "source": [
    "SARIMA_model.summary()"
   ]
  },
  {
   "cell_type": "code",
   "execution_count": null,
   "metadata": {},
   "outputs": [],
   "source": [
    "sarima_trial = SARIMAX(electricity_nonfire_series_log, order=(1, 1, 1), seasonal_order = (1,0,1,12))\n",
    "results_trial = sarima_trial.fit()\n",
    "results_trial.summary()"
   ]
  },
  {
   "cell_type": "code",
   "execution_count": null,
   "metadata": {},
   "outputs": [],
   "source": [
    "results_trial.plot_diagnostics(lags= 40, figsize=(15,12))\n",
    "plt.show()"
   ]
  },
  {
   "cell_type": "markdown",
   "metadata": {},
   "source": [
    "# Prediction"
   ]
  },
  {
   "cell_type": "markdown",
   "metadata": {},
   "source": [
    "### Forecast fire electricity data"
   ]
  },
  {
   "cell_type": "code",
   "execution_count": null,
   "metadata": {},
   "outputs": [],
   "source": [
    "# predicted value (transformed) and confidence interval(transformed)\n",
    "sarima_trial = SARIMAX(electricity_fire_series_log, order=(1, 1, 1), seasonal_order = (1,0,1,12)).fit(dis=-1)\n",
    "n_periods = 7\n",
    "fc = sarima_trial.forecast(steps = n_periods)\n",
    "print(fc)\n",
    "\n",
    "getforecast = sarima_trial.get_forecast(steps = n_periods)\n",
    "\n",
    "confint = getforecast.conf_int()\n",
    "print(confint)\n",
    "\n",
    "predicted_data = [12.213143, 12.107795, 12.083265, 11.992581, 12.102263, 12.288561, 12.462170]"
   ]
  },
  {
   "cell_type": "code",
   "execution_count": null,
   "metadata": {},
   "outputs": [],
   "source": [
    "# index predicted values (588-594)\n",
    "index_of_fc = np.arange(len(electricity_fire_series_log_diff_Season), len(electricity_fire_series_log_diff_Season)+n_periods)\n",
    "print(index_of_fc)"
   ]
  },
  {
   "cell_type": "code",
   "execution_count": null,
   "metadata": {},
   "outputs": [],
   "source": [
    "fc = [12.215872,12.108351,12.085103,11.993450,12.103748,12.289804,12.464019]\n",
    "lower_y = [12.138070,12.018075,11.990040,11.895923,12.004613,12.189421,12.362553]\n",
    "upper_y = [12.293674,12.198627,12.180166,12.090977,12.202883,12.390188,12.565486]"
   ]
  },
  {
   "cell_type": "code",
   "execution_count": null,
   "metadata": {},
   "outputs": [],
   "source": [
    "#original value for true tail(n=7)\n",
    "electricity_fire_total_df = electricity_total_df[\"Electricity_Fire\"]\n",
    "electricity_fire_total_df.tail(n=7)"
   ]
  },
  {
   "cell_type": "code",
   "execution_count": null,
   "metadata": {},
   "outputs": [],
   "source": [
    "#log value for true tail(n=7)\n",
    "electricity_fire_total_df\n",
    "electricity_fire_total_df_array = electricity_fire_total_df.values.ravel()\n",
    "index_of_total = np.arange(len(electricity_fire_total_df))\n",
    "electricity_fire_total_df_series = pd.Series(electricity_fire_total_df_array, index = index_of_total)\n",
    "electricity_fire_total_df_series_log = np.log(electricity_fire_total_df_series)\n",
    "electricity_fire_total_df_series_log_tail = electricity_fire_total_df_series_log.tail(n=7)\n",
    "print(electricity_fire_total_df_series_log_tail)"
   ]
  },
  {
   "cell_type": "code",
   "execution_count": null,
   "metadata": {},
   "outputs": [],
   "source": [
    "#plot the graph for transformed data\n",
    "fc_series = pd.Series(fc,index=index_of_fc)\n",
    "lower_series = pd.Series(lower_y, index=index_of_fc)\n",
    "upper_series = pd.Series(upper_y, index=index_of_fc)\n",
    "print(fc_series)\n",
    "print(lower_series)\n",
    "print(upper_series)\n",
    "\n",
    "# plot\n",
    "plt.plot()\n",
    "plt.plot(fc_series, color='darkgreen')\n",
    "plt.plot(electricity_fire_total_df_series_log_tail, color='darkblue')\n",
    "plt.fill_between(lower_series.index, \n",
    "                 lower_series, \n",
    "                 upper_series, \n",
    "                 color='k', alpha=.15)\n",
    "\n",
    "plt.title(\"Forecast of Electricity Fire\")\n",
    "plt.show()"
   ]
  },
  {
   "cell_type": "markdown",
   "metadata": {},
   "source": [
    "#### Forecast the original value"
   ]
  },
  {
   "cell_type": "code",
   "execution_count": null,
   "metadata": {},
   "outputs": [],
   "source": [
    "# original tail(n=7)\n",
    "electricity_fire_total_df_tail_or = electricity_fire_total_df.tail(n=7)\n",
    "electricity_fire_total_df_tail_or_array = electricity_fire_total_df_tail_or.values.ravel()\n",
    "electricity_fire_total_df_tail_or_series = pd.Series(electricity_fire_total_df_tail_or_array, index = index_of_fc)"
   ]
  },
  {
   "cell_type": "code",
   "execution_count": null,
   "metadata": {},
   "outputs": [],
   "source": [
    "# plot the graph for orogonal data (not for use because no CI)\n",
    "fc_series_or = [202128.6879,181572.7582,177420.7305,161892.5241,180778.3767,217752.757,259200.9759]\n",
    "fc_series_or_series = pd.Series(fc_series_or,index=index_of_fc)\n",
    "print(electricity_fire_total_df_tail_or_series)\n",
    "print(fc_series_or_series)\n",
    "\n",
    "# plot\n",
    "plt.plot()\n",
    "plt.plot(fc_series_or_series, color='darkgreen')\n",
    "plt.plot(electricity_fire_total_df_tail_or_series, color='darkblue')\n",
    "plt.fill_between(lower_series.index, \n",
    "                 lower_series, \n",
    "                 upper_series, \n",
    "                 color='k', alpha=.15)\n",
    "\n",
    "plt.title(\"Forecast of Electricity Fire (original data)\")\n",
    "plt.show()"
   ]
  },
  {
   "cell_type": "markdown",
   "metadata": {},
   "source": [
    "### Forecast new energy data"
   ]
  },
  {
   "cell_type": "markdown",
   "metadata": {},
   "source": [
    "#### Forecast the log transformed value"
   ]
  },
  {
   "cell_type": "code",
   "execution_count": null,
   "metadata": {},
   "outputs": [],
   "source": [
    "# predicted value (transformed) and confidence interval(transformed)\n",
    "electricity_nonfire_series_log = np.log(electricity_nonfire_series)\n",
    "sarima_trial = SARIMAX(electricity_nonfire_series_log, order=(1, 1, 1), seasonal_order = (1,0,1,12)).fit(dis=-1)\n",
    "n_periods = 7\n",
    "fc = sarima_trial.forecast(steps = n_periods)\n",
    "print(fc)\n",
    "\n",
    "getforecast = sarima_trial.get_forecast(steps = n_periods)\n"
   ]
  },
  {
   "cell_type": "code",
   "execution_count": null,
   "metadata": {},
   "outputs": [],
   "source": [
    "confint = getforecast.summary_frame()\n",
    "print(confint)"
   ]
  },
  {
   "cell_type": "code",
   "execution_count": null,
   "metadata": {},
   "outputs": [],
   "source": [
    "# index predicted values (588-594)\n",
    "index_of_fc = np.arange(len(electricity_nonfire_series_log_diff_Season), len(electricity_nonfire_series_log_diff_Season)+n_periods)\n",
    "print(index_of_fc)"
   ]
  },
  {
   "cell_type": "code",
   "execution_count": null,
   "metadata": {},
   "outputs": [],
   "source": [
    "fc = [11.934303,11.828750,11.883975,11.831995,11.891902,11.887474,11.868540]\n",
    "lower_y = [11.866696,11.742284,11.787066,11.728529,11.783979,11.776326,11.754928]\n",
    "upper_y = [12.001911,11.915216,11.980883,11.935462,11.999825,11.998621,11.982151]"
   ]
  },
  {
   "cell_type": "code",
   "execution_count": null,
   "metadata": {},
   "outputs": [],
   "source": [
    "#original value for true tail(n=7)\n",
    "electricity_nonfire_total_df = electricity_total_df[\"Electricity_Nonfire\"]\n",
    "electricity_nonfire_total_df.tail(n=7)"
   ]
  },
  {
   "cell_type": "code",
   "execution_count": null,
   "metadata": {},
   "outputs": [],
   "source": [
    "#log value for true tail(n=7)\n",
    "electricity_nonfire_total_df\n",
    "electricity_nonfire_total_df_array = electricity_nonfire_total_df.values.ravel()\n",
    "index_of_total = np.arange(len(electricity_nonfire_total_df))\n",
    "electricity_nonfire_total_df_series = pd.Series(electricity_nonfire_total_df_array, index = index_of_total)\n",
    "electricity_nonfire_total_df_series_log = np.log(electricity_nonfire_total_df_series)\n",
    "electricity_nonfire_total_df_series_log_tail = electricity_nonfire_total_df_series_log.tail(n=7)\n",
    "print(electricity_nonfire_total_df_series_log_tail)"
   ]
  },
  {
   "cell_type": "code",
   "execution_count": null,
   "metadata": {},
   "outputs": [],
   "source": [
    "#plot the graph for transformed data\n",
    "fc_series = pd.Series(fc,index=index_of_fc)\n",
    "lower_series = pd.Series(lower_y, index=index_of_fc)\n",
    "upper_series = pd.Series(upper_y, index=index_of_fc)\n",
    "print(fc_series)\n",
    "print(lower_series)\n",
    "print(upper_series)\n",
    "\n",
    "# plot\n",
    "plt.plot()\n",
    "plt.plot(fc_series, color='darkgreen')\n",
    "plt.plot(electricity_nonfire_total_df_series_log_tail, color='darkblue')\n",
    "plt.fill_between(lower_series.index, \n",
    "                 lower_series, \n",
    "                 upper_series, \n",
    "                 color='k', alpha=.15)\n",
    "\n",
    "plt.title(\"Forecast of New energy Fire\")\n",
    "plt.show()"
   ]
  },
  {
   "cell_type": "code",
   "execution_count": null,
   "metadata": {},
   "outputs": [],
   "source": [
    "# original tail(n=7)\n",
    "electricity_nonfire_total_df_tail_or = electricity_nonfire_total_df.tail(n=7)\n",
    "electricity_nonfire_total_df_tail_or_array = electricity_nonfire_total_df_tail_or.values.ravel()\n",
    "electricity_nonfire_total_df_tail_or_series = pd.Series(electricity_nonfire_total_df_tail_or_array, index = index_of_fc)\n",
    "print(electricity_nonfire_total_df_tail_or_series)"
   ]
  },
  {
   "cell_type": "code",
   "execution_count": null,
   "metadata": {},
   "outputs": [],
   "source": [
    "# plot the graph for original data (use this)\n",
    "fc_series_or = [152496.6509,137272.4725,145102.7365,137776.537,146300.4925,145667.496,142945.6774]\n",
    "fc_series_or_series = pd.Series(fc_series_or,index=index_of_fc)\n",
    "lower_series_or = [142442.8293,125779.2921,131539.9649,124061.0423,131134.5271,130134.785,127379.7422]\n",
    "lower_series_or_series = pd.Series(lower_series_or,index=index_of_fc)\n",
    "upper_series_or = [163066.1132,149524.5691,159672.9596,152582.6965,162726.3118,162530.5072,159875.5533]\n",
    "upper_series_or_series = pd.Series(upper_series_or,index=index_of_fc)\n",
    "print(electricity_nonfire_total_df_tail_or_series)\n",
    "print(fc_series_or_series)\n",
    "print(lower_series_or_series)\n",
    "print(upper_series_or_series)\n",
    "\n",
    "# plot\n",
    "plt.plot()\n",
    "plt.plot(fc_series_or_series, color='darkgreen')\n",
    "plt.plot(electricity_nonfire_total_df_tail_or_series, color='darkblue')\n",
    "plt.fill_between(lower_series_or_series.index, \n",
    "                 lower_series_or_series, \n",
    "                 upper_series_or_series, \n",
    "                 color='k', alpha=.15)\n",
    "\n",
    "plt.title(\"Forecast of New energy Fire (original data)\")\n",
    "plt.show()"
   ]
  },
  {
   "cell_type": "markdown",
   "metadata": {},
   "source": [
    "# LSTM"
   ]
  },
  {
   "cell_type": "markdown",
   "metadata": {},
   "source": [
    "## LSTM 1"
   ]
  },
  {
   "cell_type": "code",
   "execution_count": null,
   "metadata": {},
   "outputs": [],
   "source": [
    "# Process data\n",
    "fireList = np.array(electricity_total_df['Electricity_Fire']).tolist() \n",
    "max_value = np.max(fireList)\n",
    "min_value = np.min(fireList)\n",
    "scalar = max_value - min_value\n",
    "fireList = list(map(lambda x: x / scalar, fireList))\n",
    "\n",
    "# Prepare dataset\n",
    "LOOKBACK = 2\n",
    "def create_dataset(dataset, look_back=LOOKBACK):\n",
    "    dataX, dataY = [], []\n",
    "    for i in range(len(dataset) - look_back):\n",
    "        a = dataset[i:(i + look_back)]\n",
    "        dataX.append(a)\n",
    "        dataY.append(dataset[i + look_back])\n",
    "    return np.array(dataX), np.array(dataY)\n",
    "\n",
    "data_X, data_Y = create_dataset(fireList)\n",
    "train_size = 420\n",
    "test_size = len(data_X) - train_size\n",
    "train_X = data_X[:train_size]\n",
    "train_Y = data_Y[:train_size]\n",
    "test_X = data_X[train_size:]\n",
    "test_Y = data_Y[train_size:]\n",
    "train_X = train_X.reshape(-1, 1, 2)\n",
    "train_Y = train_Y.reshape(-1, 1, 1)\n",
    "test_X = test_X.reshape(-1, 1, 2)\n",
    "train_x = torch.from_numpy(train_X).to(device)\n",
    "train_y = torch.from_numpy(train_Y).to(device)\n",
    "test_x = torch.from_numpy(test_X).to(device)\n",
    "\n",
    "# Define model\n",
    "class LSTM(nn.Module):\n",
    "    def __init__(self, input_size, hidden_size, output_size=1, num_layers=2):\n",
    "        super(LSTM, self).__init__()\n",
    "\n",
    "        self.input_size = input_size\n",
    "        self.hidden_size = hidden_size\n",
    "        self.output_size = output_size\n",
    "        self.num_layers = num_layers\n",
    "        \n",
    "        self.rnn = nn.LSTM(input_size, hidden_size, num_layers)\n",
    "        self.linear = nn.Linear(hidden_size, output_size) \n",
    "        \n",
    "    def forward(self, x):\n",
    "        x, _ = self.rnn(x) # (seq, batch, hidden)\n",
    "\n",
    "        s, b, h = x.shape\n",
    "        x = x.view(s*b, h) # 转换成线性层的输入格式\n",
    "        x = self.linear(x)\n",
    "        x = x.view(s, b, -1)\n",
    "        return x\n",
    "\n",
    "model = LSTM(2, 4).to(device)\n",
    "criterion = nn.MSELoss()\n",
    "optimizer = torch.optim.Adam(model.parameters(), lr=1e-2)\n",
    "\n",
    "# Train\n",
    "for e in range(3000):\n",
    "    var_x = Variable(train_x).to(torch.float32)\n",
    "    var_y = Variable(train_y).to(torch.float32)\n",
    "\n",
    "    out = model(var_x)\n",
    "    loss = criterion(out, var_y)\n",
    "\n",
    "    optimizer.zero_grad()\n",
    "    loss.backward()\n",
    "    optimizer.step()\n",
    "    if (e + 1) % 100 == 0: \n",
    "        print('Epoch: {}, Loss: {:.5f}'.format(e + 1, loss.data))\n",
    "\n",
    "# Plot result\n",
    "fig = plt.figure(figsize=(18,10))\n",
    "x = [i for i in range(2,595)]\n",
    "plt.xlabel('Date (in months)', fontsize = 12)  \n",
    "plt.plot(x, pred_test,color = 'r',alpha = 0.7,label='Prediction') \n",
    "plt.plot(x, real,color = 'cornflowerblue',alpha = 0.7,label='Real')                    \n",
    "plt.legend(loc='best')\n",
    "plt.title('LSTM Prediction')\n",
    "plt.savefig('lstm_full_real.png', dpi=400, bbox_inches='tight')  \n"
   ]
  },
  {
   "cell_type": "markdown",
   "metadata": {},
   "source": [
    "## LSTM-based Encoder Decoder with Attention Mechanism"
   ]
  },
  {
   "cell_type": "code",
   "execution_count": null,
   "metadata": {},
   "outputs": [],
   "source": [
    "# Prepare train set\n",
    "trainX = []\n",
    "trainY = []\n",
    "for i in range(0,468,12):\n",
    "    x = fireList[i:i+24]\n",
    "    y = fireList[i+24:i+36]\n",
    "    trainX.append(x)\n",
    "    trainY.append(y)\n",
    "trainX = np.array(trainX).reshape(-1, 1, 24)\n",
    "trainY = np.array(trainY).reshape(-1, 1, 12)\n",
    "trainX = torch.from_numpy(trainX).to(device).to(torch.float32)\n",
    "trainY = torch.from_numpy(trainY).to(device).to(torch.float32)\n",
    "\n",
    "# Prepare validation set\n",
    "valiX = []\n",
    "valiY = []\n",
    "for i in range(480,528):\n",
    "    x = fireList[i:i+24]\n",
    "    y = fireList[i+24:i+36]\n",
    "    i += 1\n",
    "    valiX.append(x)\n",
    "    valiY.append(y)\n",
    "valiX = np.array(valiX).reshape(-1, 1, 24)\n",
    "valiY = np.array(valiY).reshape(-1, 1, 12)\n",
    "valiX = torch.from_numpy(valiX).to(device).to(torch.float32)\n",
    "valiY = torch.from_numpy(valiY).to(device).to(torch.float32)\n",
    "\n",
    "# Define the encoder class applying LSTM\n",
    "class EncoderLSTM(nn.Module):\n",
    "    def __init__(self, input_size = 1, hid_dim = 4, n_layers = 1, dropout_p = 0):\n",
    "        super(EncoderLSTM, self).__init__()\n",
    "\n",
    "        self.hid_dim = hid_dim\n",
    "        self.n_layers = n_layers\n",
    "        self.rnn = nn.LSTM(input_size, hid_dim, n_layers, dropout = dropout_p)\n",
    "        self.dropout = nn.Dropout(dropout_p)\n",
    "\n",
    "    def forward(self, x):\n",
    "        x = x.view(24,1,-1)\n",
    "        outputs, (hidden, cell) = self.rnn(x)\n",
    "        \n",
    "        # outputs = [src len, batch size, hid dim * n directions]\n",
    "        # hidden = [n_layers * n directions, batch size, hid_dim]\n",
    "        # cell = [n_layers * n directions, batch size, hid_dim]\n",
    "        return outputs, hidden, cell # encoded context vector\n",
    "\n",
    "# Define the encoder class applying LSTM with attention mechanism\n",
    "# Note: Here I apply the n_layer LSTM. And n_layer is the same in encoder. \n",
    "class DecoderAttLSTM(nn.Module):\n",
    "    def __init__(self, input_size, hid_dim, output_size, n_layers = 1, dropout_p = 0 , max_length = 12):\n",
    "        super(DecoderAttLSTM, self).__init__()\n",
    "\n",
    "        self.input_size = input_size\n",
    "        self.hid_dim = hid_dim\n",
    "        self.output_size = output_size\n",
    "        self.n_layers = n_layers\n",
    "        self.dropout_p = dropout_p\n",
    "        self.max_length = max_length\n",
    "\n",
    "        self.dropout = nn.Dropout(dropout_p)\n",
    "        self.leakyrelu = nn.LeakyReLU(0.1)\n",
    "        self.l2 = nn.Linear(hid_dim, 1)\n",
    "        self.l3 = nn.Linear(hid_dim + input_size, input_size)\n",
    "        self.rnn = nn.LSTM(input_size, hid_dim, n_layers, dropout = dropout_p)\n",
    "\n",
    "        self.linear_out = nn.Linear(hid_dim, output_size)\n",
    "\n",
    "\n",
    "    def forward(self, prev_output, hidden, cell, enc_outputs):\n",
    "\n",
    "        l1 = nn.Linear(self.n_layers * self.hid_dim, 24).to(device)\n",
    "        # unsqueeze the output of the previous time-step\n",
    "        prev_output = prev_output.unsqueeze(0)\n",
    "\n",
    "        # Attention\n",
    "        # Q\n",
    "        q = self.leakyrelu(l1(hidden.view(-1).squeeze(0)))\n",
    "\n",
    "        # K\n",
    "        k = self.leakyrelu(self.l2(enc_outputs.squeeze(1)).view(-1))\n",
    "\n",
    "        # Attention_Weight = Q * K / sqrt(dim_K)\n",
    "        att_weight = F.softmax(torch.mul(q,k) / math.sqrt(24))\n",
    "\n",
    "        # context vector = Attention_Weight * V\n",
    "        series_vec = torch.matmul(att_weight,enc_outputs.squeeze(1))\n",
    "\n",
    "        input = self.l3(torch.cat((series_vec,prev_output))).unsqueeze(0).unsqueeze(0)\n",
    "\n",
    "        output, (hidden, cell) = self.rnn(input, (hidden, cell))\n",
    "        \n",
    "        return output, hidden, cell\n",
    "\n",
    "# Define class of out model containing the LSTM based encoder and LSTM decoder with Attention Machanism\n",
    "class attentionModel(nn.Module):\n",
    "    def __init__(self, encoder, decoder, device):\n",
    "        super().__init__()\n",
    "\n",
    "        self.encoder = encoder\n",
    "        self.decoder = decoder\n",
    "        self.device = device\n",
    "        self.linear = nn.Linear(4,1)\n",
    "\n",
    "    def forward(self, x, y, teacher_forcing_ratio = 0.5):\n",
    "        # x = [1 24]\n",
    "        # y = [1 12]\n",
    "        outputs = torch.zeros(12,1).to(self.device)\n",
    "\n",
    "        enc_outputs, hidden, cell = self.encoder(x)\n",
    "        # prepare the last data in x as the first input to decoder\n",
    "        prev_output = x[0][-1].to(self.device)\n",
    "\n",
    "        # generate the prediction with decoder\n",
    "        for t in range(12):\n",
    "            prev_output, hidden, cell = self.decoder(prev_output, hidden, cell, enc_outputs)\n",
    "            #print('prev_output: ', prev_output.shape) [1, 1, 4]\n",
    "            prediction = self.linear(prev_output).squeeze(0).squeeze(0)\n",
    "            outputs[t] = prediction\n",
    "\n",
    "        # Apply teacher force with probability teacher_force_ratio\n",
    "            teacher_force = random.random() < teacher_forcing_ratio\n",
    "            if teacher_force:\n",
    "                prev_output = y[0][t]\n",
    "            else:\n",
    "                prev_output = prediction.squeeze(0)\n",
    "        return outputs\n",
    "\n",
    "# instantiate the encoder, decoder, and model\n",
    "encoder = EncoderLSTM()\n",
    "decoder = DecoderAttLSTM(input_size = 1, hid_dim = 4, output_size = 12, n_layers = 2)\n",
    "model = attentionModel(encoder, decoder, device).to(device)\n",
    "\n",
    "\n",
    "# initialize all weights from a uniform distribution between -0.08 and +0.08\n",
    "def init_weights(m):\n",
    "    for name, param in m.named_parameters():\n",
    "        nn.init.uniform_(param.data, -0.08, 0.08)\n",
    "model.apply(init_weights)\n",
    "\n",
    "def count_parameters(model):\n",
    "    return sum(p.numel() for p in model.parameters() if p.requires_grad)\n",
    "print(f'The model has {count_parameters(model):,} trainable parameters')\n",
    "\n",
    "criterion = nn.MSELoss()\n",
    "optimizer = torch.optim.Adam(model.parameters(), lr=1e-2)\n",
    "\n",
    "# Train\n",
    "def train(model, trainX, trainY, optimizer, criterion, clip):\n",
    "    model.train()\n",
    "\n",
    "    epoch_loss = 0\n",
    "    \n",
    "    for i in range(len(trainX)):\n",
    "\n",
    "        x = torch.tensor(trainX[i]).to(device)\n",
    "        y = torch.tensor(trainY[i]).to(device)\n",
    "        \n",
    "        \n",
    "        optimizer.zero_grad()\n",
    "\n",
    "        output = model(x,y)\n",
    "\n",
    "        y = y.view(-1)\n",
    "        \n",
    "        loss = criterion(output, y)\n",
    "        \n",
    "        loss.backward()\n",
    "        \n",
    "        torch.nn.utils.clip_grad_norm_(model.parameters(), clip)\n",
    "        \n",
    "        optimizer.step()\n",
    "        \n",
    "        epoch_loss += loss.item()\n",
    "\n",
    "    return epoch_loss\n",
    "\n",
    "N_EPOCHS = 300\n",
    "CLIP = 1\n",
    "train_loss_record = []\n",
    "best_valid_loss = float('inf')\n",
    "progress = ProgressBar()\n",
    "# start training\n",
    "for epoch in progress(range(0, N_EPOCHS)):\n",
    "\n",
    "    #print(\"Epoch: \", epoch, '\\t', time.strftime('%Y-%m-%d %H:%M:%S',time.localtime(time.time())))\n",
    "\n",
    "    start_time = time.time()\n",
    "    \n",
    "    train_loss = train(model, trainX, trainY, optimizer, criterion, CLIP)\n",
    "    #valid_loss = validate(model, valiX, valiY, criterion)\n",
    "    train_loss_record.append(train_loss)\n",
    "    \n",
    "    end_time = time.time()\n",
    "    \n",
    "    epoch_mins, epoch_secs = epoch_time(start_time, end_time)\n",
    "    '''\n",
    "    if valid_loss < best_valid_loss:\n",
    "        best_valid_loss = valid_loss\n",
    "        torch.save(model.state_dict(), 'valid_model.pt')\n",
    "    '''\n",
    "    if (epoch + 1) % 10 == 0:\n",
    "        torch.save(model, f'model{epoch}.pt')\n",
    "        print(f'Epoch: {epoch+1:02} | Time: {epoch_mins}m {epoch_secs}s')\n",
    "        print(f'\\tTrain Loss: {train_loss:.3f}')\n",
    "        fig = plt.figure(figsize=(8,6))\n",
    "        x = [i for i in range(len(train_loss_record))]\n",
    "        plt.plot(x,train_loss_record,label='Loss') \n",
    "        plt.show()\n",
    "        \n",
    "    #print(f'\\t Val. Loss: {valid_loss:.3f} |  Val. PPL: {math.exp(valid_loss):7.3f}')\n",
    "\n",
    "'''\n",
    "var_x = Variable(dataX)\n",
    "var_y = Variable(dataY)\n",
    "pred_test = model(var_x, var_y)\n",
    "'''\n",
    "\n",
    "# Forecasting\n",
    "pred = []\n",
    "\n",
    "for i in range(47):\n",
    "    x = torch.tensor(dataX[i]).to(device)\n",
    "    y = torch.tensor(dataY[i]).to(device)\n",
    "    outputs = torch.zeros(12,1).to(device)\n",
    "    #output = model(x,y)\n",
    "    enc_outputs, hidden, cell = encoder(x)\n",
    "    prev_output = x[0][-1].to(device)\n",
    "    for t in range(12):\n",
    "        prev_output, hidden, cell = decoder(prev_output, hidden, cell, enc_outputs)\n",
    "        prediction = model.linear(prev_output).squeeze(0).squeeze(0)\n",
    "        outputs[t] = prediction\n",
    "        prev_output = prediction.squeeze(0)\n",
    "    pred += outputs.squeeze(1).tolist()\n",
    "\n",
    "\n",
    "# Plot results\n",
    "fig = plt.figure(figsize=(18,10))\n",
    "x = [i for i in range(len(pred))]\n",
    "plt.xlabel('Date (in months)', fontsize = 12)  \n",
    "plt.plot(x,pred,color = 'r',alpha = 0.7,label='Prediction') \n",
    "plt.plot(x,real[:564],color = 'cornflowerblue',alpha = 0.7,label='Real')                    \n",
    "plt.legend(loc='best')\n",
    "plt.title('Prediction')    \n",
    "plt.savefig('lstm_full_real.png', dpi=400, bbox_inches='tight')  "
   ]
  },
  {
   "cell_type": "markdown",
   "metadata": {},
   "source": [
    "# ARCH-type model"
   ]
  },
  {
   "cell_type": "code",
   "execution_count": null,
   "metadata": {},
   "outputs": [],
   "source": [
    "results_sarmafinal.plot_diagnostics(lags= 40, figsize=(15,12))\n",
    "plt.show()"
   ]
  },
  {
   "cell_type": "code",
   "execution_count": null,
   "metadata": {},
   "outputs": [],
   "source": [
    "electricity_fire_series_prediction = results_sarmafinal.predict()\n",
    "electricity_fire_array_sarimaresidual = electricity_fire_series_log.values - electricity_fire_series_prediction.values\n",
    "electricity_fire_array_sarimaresidual[0] = 0\n",
    "electricity_fire_series_sarimaresidual = pd.Series(electricity_fire_array_sarimaresidual, index = electricity_fire_series_log.index)\n"
   ]
  },
  {
   "cell_type": "code",
   "execution_count": null,
   "metadata": {},
   "outputs": [],
   "source": [
    "electricity_fire_series_sarimaresidual=results_sarmafinal.resid\n",
    "electricity_fire_series_sarimaresidual[0] = 0"
   ]
  },
  {
   "cell_type": "code",
   "execution_count": null,
   "metadata": {},
   "outputs": [],
   "source": [
    "plt.figure(figsize = (15, 8))\n",
    "plt.title(label = \"Residual Plot (Thermal Power)\")\n",
    "\n",
    "electricity_fire_series_sarimaresidual.plot()\n",
    "plt.show()"
   ]
  },
  {
   "cell_type": "code",
   "execution_count": null,
   "metadata": {},
   "outputs": [],
   "source": [
    "LM_pvalue = het_arch(electricity_fire_series_sarimaresidual, ddof = 4)[1]\n",
    "print('LM-test-Pvalue:', '{:.5f}'.format(LM_pvalue))"
   ]
  },
  {
   "cell_type": "code",
   "execution_count": null,
   "metadata": {},
   "outputs": [],
   "source": [
    "garch_model = arch.arch_model(electricity_fire_series_sarimaresidual, vol = \"GARCH\", p=1, q=0)\n",
    "garch_fitted = garch_model.fit()"
   ]
  },
  {
   "cell_type": "code",
   "execution_count": null,
   "metadata": {},
   "outputs": [],
   "source": [
    "garch_fitted.summary()"
   ]
  },
  {
   "cell_type": "code",
   "execution_count": null,
   "metadata": {},
   "outputs": [],
   "source": [
    "garch_fitted.plot(annualize = \"M\")"
   ]
  },
  {
   "cell_type": "code",
   "execution_count": null,
   "metadata": {},
   "outputs": [],
   "source": [
    "electricity_nonfire_series_prediction = results_trial.predict()\n",
    "electricity_nonfire_array_sarimaresidual = electricity_nonfire_series_log.values - electricity_nonfire_series_prediction.values\n",
    "electricity_nonfire_array_sarimaresidual[0] = 0\n",
    "electricity_nonfire_series_sarimaresidual = pd.Series(electricity_nonfire_array_sarimaresidual, index = electricity_fire_series_log.index)\n"
   ]
  },
  {
   "cell_type": "code",
   "execution_count": null,
   "metadata": {},
   "outputs": [],
   "source": [
    "plt.figure(figsize = (15, 8))\n",
    "plt.title(label = \"Residual Plot (New energy)\")\n",
    "\n",
    "electricity_nonfire_series_sarimaresidual.plot()\n",
    "plt.show()"
   ]
  },
  {
   "cell_type": "code",
   "execution_count": null,
   "metadata": {},
   "outputs": [],
   "source": [
    "LM_pvalue = het_arch(electricity_nonfire_series_sarimaresidual, ddof = 4)[1]\n",
    "print('LM-test-Pvalue:', '{:.5f}'.format(LM_pvalue))"
   ]
  },
  {
   "cell_type": "code",
   "execution_count": null,
   "metadata": {},
   "outputs": [],
   "source": [
    "garch_model = arch.arch_model(electricity_nonfire_series_sarimaresidual, vol = \"EGARCH\", p=1, o=0, q=1)\n",
    "garch_fitted = garch_model.fit(update_freq = 7)"
   ]
  },
  {
   "cell_type": "code",
   "execution_count": null,
   "metadata": {},
   "outputs": [],
   "source": [
    "garch_fitted.summary()"
   ]
  },
  {
   "cell_type": "code",
   "execution_count": null,
   "metadata": {},
   "outputs": [],
   "source": [
    "garch_fitted.plot(annualize = \"M\")"
   ]
  },
  {
   "cell_type": "code",
   "execution_count": null,
   "metadata": {},
   "outputs": [],
   "source": [
    "garch_std_resid = pd.Series(garch_fitted.resid / garch_fitted.conditional_volatility)\n",
    "fig = plt.figure(figsize = (15, 8))\n",
    "\n",
    "# Residual\n",
    "garch_std_resid.plot(ax = fig.add_subplot(3,1,1), title = 'GARCH Standardized-Residual', legend = False)\n",
    "\n",
    "# ACF/PACF\n",
    "sgt.plot_acf(garch_std_resid, lags = 40, ax=fig.add_subplot(3,2,3))\n",
    "sgt.plot_pacf(garch_std_resid,lags = 40, ax=fig.add_subplot(3,2,4))\n",
    "\n",
    "# QQ-Plot & Norm-Dist\n",
    "sm.qqplot(garch_std_resid, line='s', ax=fig.add_subplot(3,2,5)) \n",
    "plt.title(\"QQ Plot\")\n",
    "fig.add_subplot(3,2,6).hist(garch_std_resid, bins = 40)\n",
    "plt.title(\"Histogram\")\n",
    "\n",
    "plt.tight_layout()\n",
    "plt.show()"
   ]
  },
  {
   "cell_type": "code",
   "execution_count": null,
   "metadata": {},
   "outputs": [],
   "source": [
    "white_noise_garch = acorr_ljungbox(garch_std_resid, lags = [24], return_df=True)\n",
    "white_noise_garch"
   ]
  },
  {
   "cell_type": "code",
   "execution_count": null,
   "metadata": {},
   "outputs": [],
   "source": [
    "sim_forecasts = garch_fitted.forecast(horizon=7, method='simulation')\n",
    "sim_paths = sim_forecasts.simulations.residual_variances[-1].T\n",
    "sim = sim_forecasts.simulations\n",
    "\n",
    "bs_forecasts = garch_fitted.forecast(horizon=7, method='bootstrap')\n",
    "bs_paths = bs_forecasts.simulations.residual_variances[-1].T\n",
    "bs = bs_forecasts.simulations"
   ]
  },
  {
   "cell_type": "code",
   "execution_count": null,
   "metadata": {},
   "outputs": [],
   "source": [
    "fig, axes = plt.subplots(1, 2, figsize=(13,5))\n",
    "\n",
    "x = np.arange(1, 8)\n",
    "\n",
    "# Plot the paths and the mean, set the axis to have the same limit\n",
    "axes[0].plot(x, np.sqrt(sim_paths), color='tomato', alpha=0.2)\n",
    "axes[0].plot(x, np.sqrt(sim_forecasts.residual_variance.iloc[-1]),\n",
    "    color='k', alpha=1)\n",
    "\n",
    "axes[0].set_title('Model-based Simulation')\n",
    "axes[0].set_xticks(np.arange(1, 8))\n",
    "axes[0].set_xlim(1, 7)\n",
    "\n",
    "axes[1].plot(x, np.sqrt(bs_paths), color='deepskyblue', alpha=0.2)\n",
    "axes[1].plot(x,np.sqrt(bs_forecasts.residual_variance.iloc[-1]),\n",
    "    color='k', alpha=1)\n",
    "\n",
    "axes[1].set_xticks(np.arange(1, 8))\n",
    "axes[1].set_xlim(1, 7)\n",
    "\n",
    "axes[1].set_title('Bootstrap Scenario')\n",
    "plt.show()"
   ]
  },
  {
   "cell_type": "code",
   "execution_count": null,
   "metadata": {},
   "outputs": [],
   "source": [
    "np.sqrt(sim_forecasts.residual_variance.iloc[-1])"
   ]
  },
  {
   "cell_type": "code",
   "execution_count": null,
   "metadata": {},
   "outputs": [],
   "source": [
    "np.sqrt(bs_forecasts.residual_variance.iloc[-1])"
   ]
  }
 ],
 "metadata": {
  "kernelspec": {
   "display_name": "Python 3.8.2 64-bit",
   "language": "python",
   "name": "python3"
  },
  "language_info": {
   "codemirror_mode": {
    "name": "ipython",
    "version": 3
   },
   "file_extension": ".py",
   "mimetype": "text/x-python",
   "name": "python",
   "nbconvert_exporter": "python",
   "pygments_lexer": "ipython3",
   "version": "3.8.2"
  },
  "orig_nbformat": 4,
  "vscode": {
   "interpreter": {
    "hash": "3cd2506ed87cf616db555091a1f51ea367a230f8881c6d5beb7cb815d220d913"
   }
  }
 },
 "nbformat": 4,
 "nbformat_minor": 2
}
